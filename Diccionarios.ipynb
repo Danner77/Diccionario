{
  "nbformat": 4,
  "nbformat_minor": 0,
  "metadata": {
    "colab": {
      "provenance": [],
      "authorship_tag": "ABX9TyOiR3t13lSo/Z8DOvRz5wG4",
      "include_colab_link": true
    },
    "kernelspec": {
      "name": "python3",
      "display_name": "Python 3"
    },
    "language_info": {
      "name": "python"
    }
  },
  "cells": [
    {
      "cell_type": "markdown",
      "metadata": {
        "id": "view-in-github",
        "colab_type": "text"
      },
      "source": [
        "<a href=\"https://colab.research.google.com/github/Danner77/Diccionario/blob/main/Diccionarios.ipynb\" target=\"_parent\"><img src=\"https://colab.research.google.com/assets/colab-badge.svg\" alt=\"Open In Colab\"/></a>"
      ]
    },
    {
      "cell_type": "markdown",
      "source": [
        "# Diccionarios\n",
        "- son datos estructurados es decir hacen refererencia a una coleccion de datos\n",
        "- son una coleccion desordenada de pares de datos de la forma clave:valor conocidos como elementos o items.\n",
        "-son mutables por tanto una vez definido un diccinario se le pueden agregar nuevos elementos, modificar o eliminar alguno de los que ya tienen.\n",
        "- tambien se les conoce como mapa de hash o arreglos asiociativos.\n",
        "- en python los dicionarios son de tipo dict y se utiliza la siguiente sintaxis para crear una variable de este tipo:\n",
        "\n",
        "nombre_dict = ``` {clave1:valor1, clave2:valor2, ...}```\n",
        "- cada item o elemento tiene la forma clave:valor\n",
        "-en cada item hay una clave y uno o mas valores. si se desconoce el valor, se puede llenar con `none`\n",
        "-los elementos de un diccionario se indexan por la clave.\n",
        "-las claves solo pueden ser datos inmutables.\n",
        "-las claves no pueden repetirse dentro de un diccionario."
      ],
      "metadata": {
        "id": "WNIgCKPapbLB"
      }
    },
    {
      "cell_type": "code",
      "execution_count": null,
      "metadata": {
        "id": "CYpbSO59pY5p"
      },
      "outputs": [],
      "source": [
        "# Diccionario con clave tipo cadena\n",
        "\n",
        "num_meses = {1:'enero', 2:'febrero', 3:'marzo', 4:'abril', 5:'mayo', 6:'junio', 7:'julio', 8:'agosto', 9:'septiembre', 10:'octubre', 11:'noviembre', 12:'diciembre'}\n",
        "print(num_meses)\n",
        "\n",
        "\n",
        "nombre_meses = {1:'enero', 2:'febrero', 3:'marzo', 4:'abril', 5:'mayo', 6:'junio', 7:'julio', 8:'agosto', 9:'septiembre', 10:'octubre', 11:'noviembre', 12:'diciembre'}\n",
        "print(nombre_meses)\n",
        "frutas = {'manzana' :34 'pera' :45 'uva' :23 }\n",
        "print(frutas)\n",
        "\n",
        "# agregar elementos\n",
        "frutas['cereza']\n"
      ]
    }
  ]
}